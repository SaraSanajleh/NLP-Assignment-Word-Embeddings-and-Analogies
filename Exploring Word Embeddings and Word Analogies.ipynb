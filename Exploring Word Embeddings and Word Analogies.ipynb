{
  "cells": [
    {
      "cell_type": "markdown",
      "source": [
        "# Import Libraries"
      ],
      "metadata": {
        "id": "2JSGYmxph761"
      }
    },
    {
      "cell_type": "code",
      "execution_count": null,
      "metadata": {
        "colab": {
          "base_uri": "https://localhost:8080/"
        },
        "id": "HeBZnF23RB5Z",
        "outputId": "125ab9fe-78ad-48f3-eacd-4335e151bacf"
      },
      "outputs": [
        {
          "output_type": "stream",
          "name": "stdout",
          "text": [
            "Found existing installation: numpy 2.0.2\n",
            "Uninstalling numpy-2.0.2:\n",
            "  Successfully uninstalled numpy-2.0.2\n",
            "Collecting numpy\n",
            "  Downloading numpy-2.2.4-cp311-cp311-manylinux_2_17_x86_64.manylinux2014_x86_64.whl.metadata (62 kB)\n",
            "\u001b[2K     \u001b[90m━━━━━━━━━━━━━━━━━━━━━━━━━━━━━━━━━━━━━━━━\u001b[0m \u001b[32m62.0/62.0 kB\u001b[0m \u001b[31m2.0 MB/s\u001b[0m eta \u001b[36m0:00:00\u001b[0m\n",
            "\u001b[?25hDownloading numpy-2.2.4-cp311-cp311-manylinux_2_17_x86_64.manylinux2014_x86_64.whl (16.4 MB)\n",
            "\u001b[2K   \u001b[90m━━━━━━━━━━━━━━━━━━━━━━━━━━━━━━━━━━━━━━━━\u001b[0m \u001b[32m16.4/16.4 MB\u001b[0m \u001b[31m41.6 MB/s\u001b[0m eta \u001b[36m0:00:00\u001b[0m\n",
            "\u001b[?25hInstalling collected packages: numpy\n",
            "\u001b[31mERROR: pip's dependency resolver does not currently take into account all the packages that are installed. This behaviour is the source of the following dependency conflicts.\n",
            "tensorflow 2.18.0 requires numpy<2.1.0,>=1.26.0, but you have numpy 2.2.4 which is incompatible.\n",
            "numba 0.60.0 requires numpy<2.1,>=1.22, but you have numpy 2.2.4 which is incompatible.\u001b[0m\u001b[31m\n",
            "\u001b[0mSuccessfully installed numpy-2.2.4\n"
          ]
        }
      ],
      "source": [
        "!pip uninstall -y numpy\n",
        "!pip install numpy --upgrade\n",
        "\n"
      ]
    },
    {
      "cell_type": "code",
      "execution_count": null,
      "metadata": {
        "colab": {
          "base_uri": "https://localhost:8080/"
        },
        "id": "3L2q5GTNRL84",
        "outputId": "ef6231b1-01f3-4da8-d488-4c225d436178"
      },
      "outputs": [
        {
          "output_type": "stream",
          "name": "stdout",
          "text": [
            "Found existing installation: scipy 1.14.1\n",
            "Uninstalling scipy-1.14.1:\n",
            "  Successfully uninstalled scipy-1.14.1\n",
            "\u001b[33mWARNING: Skipping gensim as it is not installed.\u001b[0m\u001b[33m\n",
            "\u001b[0mCollecting scipy==1.10.1\n",
            "  Downloading scipy-1.10.1-cp311-cp311-manylinux_2_17_x86_64.manylinux2014_x86_64.whl.metadata (58 kB)\n",
            "\u001b[2K     \u001b[90m━━━━━━━━━━━━━━━━━━━━━━━━━━━━━━━━━━━━━━━━\u001b[0m \u001b[32m58.9/58.9 kB\u001b[0m \u001b[31m2.2 MB/s\u001b[0m eta \u001b[36m0:00:00\u001b[0m\n",
            "\u001b[?25hCollecting gensim==4.3.1\n",
            "  Downloading gensim-4.3.1-cp311-cp311-manylinux_2_17_x86_64.manylinux2014_x86_64.whl.metadata (8.4 kB)\n",
            "Collecting numpy<1.27.0,>=1.19.5 (from scipy==1.10.1)\n",
            "  Downloading numpy-1.26.4-cp311-cp311-manylinux_2_17_x86_64.manylinux2014_x86_64.whl.metadata (61 kB)\n",
            "\u001b[2K     \u001b[90m━━━━━━━━━━━━━━━━━━━━━━━━━━━━━━━━━━━━━━━━\u001b[0m \u001b[32m61.0/61.0 kB\u001b[0m \u001b[31m4.0 MB/s\u001b[0m eta \u001b[36m0:00:00\u001b[0m\n",
            "\u001b[?25hRequirement already satisfied: smart-open>=1.8.1 in /usr/local/lib/python3.11/dist-packages (from gensim==4.3.1) (7.1.0)\n",
            "Requirement already satisfied: wrapt in /usr/local/lib/python3.11/dist-packages (from smart-open>=1.8.1->gensim==4.3.1) (1.17.2)\n",
            "Downloading scipy-1.10.1-cp311-cp311-manylinux_2_17_x86_64.manylinux2014_x86_64.whl (34.1 MB)\n",
            "\u001b[2K   \u001b[90m━━━━━━━━━━━━━━━━━━━━━━━━━━━━━━━━━━━━━━━━\u001b[0m \u001b[32m34.1/34.1 MB\u001b[0m \u001b[31m20.6 MB/s\u001b[0m eta \u001b[36m0:00:00\u001b[0m\n",
            "\u001b[?25hDownloading gensim-4.3.1-cp311-cp311-manylinux_2_17_x86_64.manylinux2014_x86_64.whl (26.6 MB)\n",
            "\u001b[2K   \u001b[90m━━━━━━━━━━━━━━━━━━━━━━━━━━━━━━━━━━━━━━━━\u001b[0m \u001b[32m26.6/26.6 MB\u001b[0m \u001b[31m80.0 MB/s\u001b[0m eta \u001b[36m0:00:00\u001b[0m\n",
            "\u001b[?25hDownloading numpy-1.26.4-cp311-cp311-manylinux_2_17_x86_64.manylinux2014_x86_64.whl (18.3 MB)\n",
            "\u001b[2K   \u001b[90m━━━━━━━━━━━━━━━━━━━━━━━━━━━━━━━━━━━━━━━━\u001b[0m \u001b[32m18.3/18.3 MB\u001b[0m \u001b[31m103.8 MB/s\u001b[0m eta \u001b[36m0:00:00\u001b[0m\n",
            "\u001b[?25hInstalling collected packages: numpy, scipy, gensim\n",
            "  Attempting uninstall: numpy\n",
            "    Found existing installation: numpy 2.2.4\n",
            "    Uninstalling numpy-2.2.4:\n",
            "      Successfully uninstalled numpy-2.2.4\n",
            "\u001b[31mERROR: pip's dependency resolver does not currently take into account all the packages that are installed. This behaviour is the source of the following dependency conflicts.\n",
            "cvxpy 1.6.4 requires scipy>=1.11.0, but you have scipy 1.10.1 which is incompatible.\n",
            "thinc 8.3.6 requires numpy<3.0.0,>=2.0.0, but you have numpy 1.26.4 which is incompatible.\n",
            "scikit-image 0.25.2 requires scipy>=1.11.4, but you have scipy 1.10.1 which is incompatible.\n",
            "jax 0.5.2 requires scipy>=1.11.1, but you have scipy 1.10.1 which is incompatible.\n",
            "jaxlib 0.5.1 requires scipy>=1.11.1, but you have scipy 1.10.1 which is incompatible.\u001b[0m\u001b[31m\n",
            "\u001b[0mSuccessfully installed gensim-4.3.1 numpy-1.26.4 scipy-1.10.1\n"
          ]
        }
      ],
      "source": [
        "!pip uninstall -y scipy gensim\n",
        "!pip install scipy==1.10.1 gensim==4.3.1\n"
      ]
    },
    {
      "cell_type": "code",
      "execution_count": null,
      "metadata": {
        "colab": {
          "base_uri": "https://localhost:8080/"
        },
        "id": "FP2vNOL4Rms8",
        "outputId": "9ff1a5c2-db52-41e5-8a6a-90e7faf3d850"
      },
      "outputs": [
        {
          "output_type": "stream",
          "name": "stdout",
          "text": [
            "Requirement already satisfied: numpy==1.23.5 in /usr/local/lib/python3.11/dist-packages (1.23.5)\n"
          ]
        }
      ],
      "source": [
        "!pip install numpy==1.23.5\n"
      ]
    },
    {
      "cell_type": "code",
      "execution_count": null,
      "metadata": {
        "colab": {
          "base_uri": "https://localhost:8080/"
        },
        "id": "s1vXRL_hRrOw",
        "outputId": "82e52d15-db54-4b8c-a0c4-e27d43436e64"
      },
      "outputs": [
        {
          "output_type": "stream",
          "name": "stdout",
          "text": [
            "Requirement already satisfied: gensim in /usr/local/lib/python3.11/dist-packages (4.3.1)\n",
            "Collecting gensim\n",
            "  Downloading gensim-4.3.3-cp311-cp311-manylinux_2_17_x86_64.manylinux2014_x86_64.whl.metadata (8.1 kB)\n",
            "Requirement already satisfied: numpy<2.0,>=1.18.5 in /usr/local/lib/python3.11/dist-packages (from gensim) (1.23.5)\n",
            "Requirement already satisfied: scipy<1.14.0,>=1.7.0 in /usr/local/lib/python3.11/dist-packages (from gensim) (1.10.1)\n",
            "Requirement already satisfied: smart-open>=1.8.1 in /usr/local/lib/python3.11/dist-packages (from gensim) (7.1.0)\n",
            "Requirement already satisfied: wrapt in /usr/local/lib/python3.11/dist-packages (from smart-open>=1.8.1->gensim) (1.17.2)\n",
            "Downloading gensim-4.3.3-cp311-cp311-manylinux_2_17_x86_64.manylinux2014_x86_64.whl (26.7 MB)\n",
            "\u001b[2K   \u001b[90m━━━━━━━━━━━━━━━━━━━━━━━━━━━━━━━━━━━━━━━━\u001b[0m \u001b[32m26.7/26.7 MB\u001b[0m \u001b[31m51.4 MB/s\u001b[0m eta \u001b[36m0:00:00\u001b[0m\n",
            "\u001b[?25hInstalling collected packages: gensim\n",
            "  Attempting uninstall: gensim\n",
            "    Found existing installation: gensim 4.3.1\n",
            "    Uninstalling gensim-4.3.1:\n",
            "      Successfully uninstalled gensim-4.3.1\n",
            "Successfully installed gensim-4.3.3\n",
            "Requirement already satisfied: scipy in /usr/local/lib/python3.11/dist-packages (1.10.1)\n",
            "Collecting scipy\n",
            "  Downloading scipy-1.15.2-cp311-cp311-manylinux_2_17_x86_64.manylinux2014_x86_64.whl.metadata (61 kB)\n",
            "\u001b[2K     \u001b[90m━━━━━━━━━━━━━━━━━━━━━━━━━━━━━━━━━━━━━━━━\u001b[0m \u001b[32m62.0/62.0 kB\u001b[0m \u001b[31m2.4 MB/s\u001b[0m eta \u001b[36m0:00:00\u001b[0m\n",
            "\u001b[?25hRequirement already satisfied: numpy<2.5,>=1.23.5 in /usr/local/lib/python3.11/dist-packages (from scipy) (1.23.5)\n",
            "Downloading scipy-1.15.2-cp311-cp311-manylinux_2_17_x86_64.manylinux2014_x86_64.whl (37.6 MB)\n",
            "\u001b[2K   \u001b[90m━━━━━━━━━━━━━━━━━━━━━━━━━━━━━━━━━━━━━━━━\u001b[0m \u001b[32m37.6/37.6 MB\u001b[0m \u001b[31m16.0 MB/s\u001b[0m eta \u001b[36m0:00:00\u001b[0m\n",
            "\u001b[?25hInstalling collected packages: scipy\n",
            "  Attempting uninstall: scipy\n",
            "    Found existing installation: scipy 1.10.1\n",
            "    Uninstalling scipy-1.10.1:\n",
            "      Successfully uninstalled scipy-1.10.1\n",
            "\u001b[31mERROR: pip's dependency resolver does not currently take into account all the packages that are installed. This behaviour is the source of the following dependency conflicts.\n",
            "gensim 4.3.3 requires scipy<1.14.0,>=1.7.0, but you have scipy 1.15.2 which is incompatible.\n",
            "pymc 5.21.2 requires numpy>=1.25.0, but you have numpy 1.23.5 which is incompatible.\n",
            "imbalanced-learn 0.13.0 requires numpy<3,>=1.24.3, but you have numpy 1.23.5 which is incompatible.\n",
            "albumentations 2.0.5 requires numpy>=1.24.4, but you have numpy 1.23.5 which is incompatible.\n",
            "scikit-image 0.25.2 requires numpy>=1.24, but you have numpy 1.23.5 which is incompatible.\n",
            "jax 0.5.2 requires numpy>=1.25, but you have numpy 1.23.5 which is incompatible.\n",
            "jaxlib 0.5.1 requires numpy>=1.25, but you have numpy 1.23.5 which is incompatible.\u001b[0m\u001b[31m\n",
            "\u001b[0mSuccessfully installed scipy-1.15.2\n"
          ]
        }
      ],
      "source": [
        "!pip install --upgrade gensim\n",
        "!pip install --upgrade scipy\n"
      ]
    },
    {
      "cell_type": "markdown",
      "source": [
        "#  Loading Pre-trained Embeddings:"
      ],
      "metadata": {
        "id": "xDBehAnIiCtv"
      }
    },
    {
      "cell_type": "code",
      "execution_count": null,
      "metadata": {
        "colab": {
          "base_uri": "https://localhost:8080/"
        },
        "id": "MD3mSz-MRYqJ",
        "outputId": "20a98062-8f1d-4232-c814-b54b19a32bee"
      },
      "outputs": [
        {
          "output_type": "stream",
          "name": "stdout",
          "text": [
            "Loading Word2Vec model...\n",
            "[==================================================] 100.0% 1662.8/1662.8MB downloaded\n",
            "Word2Vec model loaded!\n",
            "Loading GloVe model...\n",
            "[==================================================] 100.0% 376.1/376.1MB downloaded\n",
            "GloVe model loaded!\n"
          ]
        }
      ],
      "source": [
        "import gensim.downloader as api\n",
        "\n",
        "print(\"Loading Word2Vec model...\")\n",
        "word2vec_model = api.load(\"word2vec-google-news-300\")\n",
        "print(\"Word2Vec model loaded!\")\n",
        "\n",
        "print(\"Loading GloVe model...\")\n",
        "glove_model = api.load(\"glove-wiki-gigaword-300\")\n",
        "print(\"GloVe model loaded!\")\n"
      ]
    },
    {
      "cell_type": "markdown",
      "source": [
        "# Compute Cosine Similarity"
      ],
      "metadata": {
        "id": "jXUKxLKCiHi9"
      }
    },
    {
      "cell_type": "code",
      "execution_count": null,
      "metadata": {
        "id": "O7eZIFstRegm"
      },
      "outputs": [],
      "source": [
        "import numpy as np\n",
        "\n",
        "def compute_similarity(vec1, vec2):\n",
        "    return np.dot(vec1, vec2) / (np.linalg.norm(vec1) * np.linalg.norm(vec2) + 1e-10)\n"
      ]
    },
    {
      "cell_type": "markdown",
      "source": [
        "# Retrieve word or phrase embedding from a pretrained model"
      ],
      "metadata": {
        "id": "vJrl9OvCiUmQ"
      }
    },
    {
      "cell_type": "code",
      "execution_count": null,
      "metadata": {
        "id": "9BXTaLMsDCUi"
      },
      "outputs": [],
      "source": [
        "def get_word_vector(word, model):\n",
        "    if word in model:\n",
        "        return model[word]\n",
        "    elif \" \" in word:\n",
        "        parts = word.split(\" \")\n",
        "        vectors = [model[p] for p in parts if p in model]\n",
        "        if vectors:\n",
        "            return np.mean(vectors, axis=0)\n",
        "    return None"
      ]
    },
    {
      "cell_type": "markdown",
      "source": [
        "# Find the most similar word to a given vector"
      ],
      "metadata": {
        "id": "2wHeY3MDifAN"
      }
    },
    {
      "cell_type": "code",
      "execution_count": null,
      "metadata": {
        "id": "cRi92EbqDCXY"
      },
      "outputs": [],
      "source": [
        "def find_closest_word(model, target_vector, ignore_set):\n",
        "    best_similarity = -1\n",
        "    best_match = None\n",
        "    for word in model.index_to_key:\n",
        "        if word in ignore_set:\n",
        "            continue\n",
        "        similarity = compute_similarity(model[word], target_vector)\n",
        "        if similarity > best_similarity:\n",
        "            best_similarity = similarity\n",
        "            best_match = word\n",
        "    return best_match"
      ]
    },
    {
      "cell_type": "markdown",
      "source": [
        "# Evalute the models"
      ],
      "metadata": {
        "id": "8TaqP9FcigsK"
      }
    },
    {
      "cell_type": "code",
      "execution_count": null,
      "metadata": {
        "id": "Xu1dk-WmDCbx"
      },
      "outputs": [],
      "source": [
        "def run_analogy_test(model, analogy_data, model_label=\"My Word Embedding Model\"):\n",
        "    total = 0\n",
        "    correct = 0\n",
        "    print(f\"\\nRunning analogy evaluation for: {model_label}\\n\")\n",
        "\n",
        "    for a, b, c, expected in analogy_data:\n",
        "        a_vec = get_word_vector(a, model)\n",
        "        b_vec = get_word_vector(b, model)\n",
        "        c_vec = get_word_vector(c, model)\n",
        "\n",
        "        if any(v is None for v in (a_vec, b_vec, c_vec)):\n",
        "            print(f\"{a}:{b} :: {c}:? --> Skipped (missing vector)\")\n",
        "            continue\n",
        "\n",
        "        target_vec = b_vec + c_vec - a_vec\n",
        "        predicted = find_closest_word(model, target_vec, {a, b, c})\n",
        "\n",
        "        is_correct = predicted == expected\n",
        "        print(f\"{a}:{b} :: {c}:? --> Predicted: {predicted} | Expected: {expected}\")\n",
        "\n",
        "        total += 1\n",
        "        if is_correct:\n",
        "            correct += 1\n",
        "\n",
        "    accuracy = (correct / total) * 100 if total > 0 else 0\n",
        "    print(f\"\\nFinal accuracy: {accuracy:.2f}%\")\n"
      ]
    },
    {
      "cell_type": "markdown",
      "source": [
        "# Designing My Own Word Analogy Tests"
      ],
      "metadata": {
        "id": "Toc9n9kJiluK"
      }
    },
    {
      "cell_type": "code",
      "execution_count": null,
      "metadata": {
        "id": "m29S2zdYDNxQ"
      },
      "outputs": [],
      "source": [
        "analogies_sem = [\n",
        "  (\"milk\", \"cow\", \"honey\", \"bee\"),\n",
        "(\"light\", \"dark\", \"day\", \"night\"),\n",
        "(\"mountain\", \"hill\", \"ocean\", \"sea\"),\n",
        "(\"book\", \"author\", \"song\", \"singer\"),\n",
        "(\"compass\", \"direction\", \"clock\", \"time\"),\n",
        "(\"oxygen\", \"breathe\", \"food\", \"eat\"),\n",
        "(\"programming\", \"it\", \"medicine\", \"pharmacy\"),\n",
        "(\"glasses\", \"eyes\", \"headphones\", \"ears\"),\n",
        "(\"coffee\", \"caffeine\", \"beer\", \"alcohol\"),\n",
        "(\"doctor\", \"hospital\", \"teacher\", \"school\")\n",
        "]\n",
        "\n"
      ]
    },
    {
      "cell_type": "code",
      "execution_count": null,
      "metadata": {
        "id": "fIQzp63tDOEa"
      },
      "outputs": [],
      "source": [
        "analogies_syn = [\n",
        "    (\"jump\", \"jumped\", \"sing\", \"sang\"),\n",
        "    (\"bright\", \"brightness\", \"happy\", \"happiness\"),\n",
        "    (\"break\", \"broken\", \"go\", \"gone\"),\n",
        "    (\"educate\", \"education\", \"communicate\", \"communication\"),\n",
        "    (\"test\", \"tested\", \"train\", \"trained\"),\n",
        "    (\"try\", \"tries\", \"cry\", \"cries\"),\n",
        "    (\"teach\", \"teacher\", \"build\", \"builder\"),\n",
        "    (\"easy\", \"easier\", \"hard\", \"harder\"),\n",
        "    (\"boy\", \"boys\", \"girl\", \"girls\"),\n",
        "    (\"honest\", \"honestly\", \"calm\", \"calmly\"),\n",
        "\n",
        "]\n"
      ]
    },
    {
      "cell_type": "code",
      "execution_count": null,
      "metadata": {
        "colab": {
          "base_uri": "https://localhost:8080/"
        },
        "id": "7h52Jb9TDOWE",
        "outputId": "c9146ace-6f8f-4df9-fabd-0d57eefcf797"
      },
      "outputs": [
        {
          "output_type": "stream",
          "name": "stdout",
          "text": [
            "\n",
            "Running analogy evaluation for: Word2Vec\n",
            "\n",
            "milk:cow :: honey:? --> Predicted: bee | Expected: bee\n",
            "light:dark :: day:? --> Predicted: night | Expected: night\n",
            "mountain:hill :: ocean:? --> Predicted: sea | Expected: sea\n",
            "book:author :: song:? --> Predicted: songs | Expected: singer\n",
            "compass:direction :: clock:? --> Predicted: tackled_inbounds | Expected: time\n",
            "oxygen:breathe :: food:? --> Predicted: eat | Expected: eat\n",
            "programming:it :: medicine:? --> Predicted: medicines | Expected: pharmacy\n",
            "glasses:eyes :: headphones:? --> Predicted: earphones | Expected: ears\n",
            "coffee:caffeine :: beer:? --> Predicted: caffeinated_drinks | Expected: alcohol\n",
            "doctor:hospital :: teacher:? --> Predicted: elementary | Expected: school\n",
            "\n",
            "Final accuracy: 40.00%\n",
            "\n",
            "Running analogy evaluation for: GloVe\n",
            "\n",
            "milk:cow :: honey:? --> Predicted: mad | Expected: bee\n",
            "light:dark :: day:? --> Predicted: days | Expected: night\n",
            "mountain:hill :: ocean:? --> Predicted: waters | Expected: sea\n",
            "book:author :: song:? --> Predicted: singer | Expected: singer\n",
            "compass:direction :: clock:? --> Predicted: time | Expected: time\n",
            "oxygen:breathe :: food:? --> Predicted: eat | Expected: eat\n",
            "programming:it :: medicine:? --> Predicted: medical | Expected: pharmacy\n",
            "glasses:eyes :: headphones:? --> Predicted: ears | Expected: ears\n",
            "coffee:caffeine :: beer:? --> Predicted: alcohol | Expected: alcohol\n",
            "doctor:hospital :: teacher:? --> Predicted: school | Expected: school\n",
            "\n",
            "Final accuracy: 60.00%\n",
            "\n",
            "Running analogy evaluation for: Word2Vec\n",
            "\n",
            "jump:jumped :: sing:? --> Predicted: sang | Expected: sang\n",
            "bright:brightness :: happy:? --> Predicted: luminance | Expected: happiness\n",
            "break:broken :: go:? --> Predicted: gone | Expected: gone\n",
            "educate:education :: communicate:? --> Predicted: communication | Expected: communication\n",
            "test:tested :: train:? --> Predicted: trains | Expected: trained\n",
            "try:tries :: cry:? --> Predicted: cries | Expected: cries\n",
            "teach:teacher :: build:? --> Predicted: builder | Expected: builder\n",
            "easy:easier :: hard:? --> Predicted: harder | Expected: harder\n",
            "boy:boys :: girl:? --> Predicted: girls | Expected: girls\n",
            "honest:honestly :: calm:? --> Predicted: calmed | Expected: calmly\n",
            "\n",
            "Final accuracy: 70.00%\n",
            "\n",
            "Running analogy evaluation for: GloVe\n",
            "\n",
            "jump:jumped :: sing:? --> Predicted: sang | Expected: sang\n",
            "bright:brightness :: happy:? --> Predicted: amplitude | Expected: happiness\n",
            "break:broken :: go:? --> Predicted: gone | Expected: gone\n",
            "educate:education :: communicate:? --> Predicted: communication | Expected: communication\n",
            "test:tested :: train:? --> Predicted: trains | Expected: trained\n",
            "try:tries :: cry:? --> Predicted: cries | Expected: cries\n",
            "teach:teacher :: build:? --> Predicted: building | Expected: builder\n",
            "easy:easier :: hard:? --> Predicted: harder | Expected: harder\n",
            "boy:boys :: girl:? --> Predicted: girls | Expected: girls\n",
            "honest:honestly :: calm:? --> Predicted: calmness | Expected: calmly\n",
            "\n",
            "Final accuracy: 60.00%\n"
          ]
        }
      ],
      "source": [
        "run_analogy_test(word2vec_model, analogies_sem, \"Word2Vec\")\n",
        "run_analogy_test(glove_model, analogies_sem, \"GloVe\")\n",
        "run_analogy_test(word2vec_model, analogies_syn, \"Word2Vec\")\n",
        "run_analogy_test(glove_model, analogies_syn, \"GloVe\")\n"
      ]
    },
    {
      "cell_type": "code",
      "execution_count": null,
      "metadata": {
        "id": "oAjjfvZeDOiq"
      },
      "outputs": [],
      "source": []
    },
    {
      "cell_type": "code",
      "execution_count": null,
      "metadata": {
        "id": "YIY7RakaDOsH"
      },
      "outputs": [],
      "source": []
    },
    {
      "cell_type": "code",
      "execution_count": null,
      "metadata": {
        "id": "MtbfOOfZDO0n"
      },
      "outputs": [],
      "source": []
    }
  ],
  "metadata": {
    "accelerator": "GPU",
    "colab": {
      "gpuType": "T4",
      "provenance": []
    },
    "kernelspec": {
      "display_name": "Python 3",
      "name": "python3"
    },
    "language_info": {
      "name": "python"
    }
  },
  "nbformat": 4,
  "nbformat_minor": 0
}